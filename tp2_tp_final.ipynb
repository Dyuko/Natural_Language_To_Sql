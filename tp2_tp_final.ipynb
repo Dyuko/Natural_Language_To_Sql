{
  "nbformat": 4,
  "nbformat_minor": 0,
  "metadata": {
    "colab": {
      "provenance": [],
      "collapsed_sections": [
        "uqtYFSflh8Q2"
      ],
      "authorship_tag": "ABX9TyMT5cNlzeCscqahV3bhuJ+P",
      "include_colab_link": true
    },
    "kernelspec": {
      "name": "python3",
      "display_name": "Python 3"
    },
    "language_info": {
      "name": "python"
    }
  },
  "cells": [
    {
      "cell_type": "markdown",
      "metadata": {
        "id": "view-in-github",
        "colab_type": "text"
      },
      "source": [
        "<a href=\"https://colab.research.google.com/github/Dyuko/Natural_Language_To_Sql/blob/main/tp2_tp_final.ipynb\" target=\"_parent\"><img src=\"https://colab.research.google.com/assets/colab-badge.svg\" alt=\"Open In Colab\"/></a>"
      ]
    },
    {
      "cell_type": "markdown",
      "source": [
        "# Sistema de Consulta SQL con LLM\n",
        "Este notebook implementa un sistema de consulta en lenguaje natural para una base de datos SQLite (Chinook)\n",
        "utilizando un modelo de lenguaje (LLM) para convertir preguntas en consultas SQL."
      ],
      "metadata": {
        "id": "djWPPpCsgC7p"
      }
    },
    {
      "cell_type": "markdown",
      "source": [
        "### Instalación de bibliotecas necesarias"
      ],
      "metadata": {
        "id": "9Cwmc7NY9Eja"
      }
    },
    {
      "cell_type": "code",
      "source": [
        "!pip install -qU langchain-huggingface\n",
        "!pip install -qU langchain-core\n",
        "!pip install faiss-cpu\n",
        "!pip install python-dotenv\n",
        "!pip install langchain-community\n",
        "!pip install langgraph\n",
        "!pip install -U langchain-groq"
      ],
      "metadata": {
        "id": "Gso4kIkduom5",
        "collapsed": true
      },
      "execution_count": null,
      "outputs": []
    },
    {
      "cell_type": "markdown",
      "source": [
        "### Importación de bibliotecas"
      ],
      "metadata": {
        "id": "kNM_BXtq9Gym"
      }
    },
    {
      "cell_type": "code",
      "execution_count": 6,
      "metadata": {
        "id": "9HkHp3Z-cAn6"
      },
      "outputs": [],
      "source": [
        "import dotenv\n",
        "import os\n",
        "import ast\n",
        "import re\n",
        "from google.colab import drive\n",
        "from langchain_community.utilities import SQLDatabase\n",
        "from langgraph.prebuilt import create_react_agent\n",
        "from langchain_community.agent_toolkits import SQLDatabaseToolkit\n",
        "from langchain.chat_models import init_chat_model\n",
        "from langchain_huggingface import HuggingFaceEmbeddings\n",
        "from langchain_community.vectorstores import FAISS\n",
        "from langchain.agents.agent_toolkits import create_retriever_tool\n",
        "from langchain_core.messages import HumanMessage"
      ]
    },
    {
      "cell_type": "markdown",
      "source": [
        "### Montar Google Drive para acceder a archivos"
      ],
      "metadata": {
        "id": "kF0U9Kl09Ih9"
      }
    },
    {
      "cell_type": "code",
      "source": [
        "drive.mount('/content/drive')\n",
        "path = '/content/drive/MyDrive/tp2_tpfinal/Chinook_v2.db'"
      ],
      "metadata": {
        "colab": {
          "base_uri": "https://localhost:8080/"
        },
        "id": "A_G-2l7OhBak",
        "outputId": "a99e3b46-f8c9-4161-bc98-8ad6c86681f0"
      },
      "execution_count": 7,
      "outputs": [
        {
          "output_type": "stream",
          "name": "stdout",
          "text": [
            "Mounted at /content/drive\n"
          ]
        }
      ]
    },
    {
      "cell_type": "markdown",
      "source": [
        "### Cargar variables de entorno"
      ],
      "metadata": {
        "id": "bAhL_XeJ9LSr"
      }
    },
    {
      "cell_type": "code",
      "source": [
        "dotenv.load_dotenv('/content/drive/MyDrive/.env')\n",
        "api_key = os.environ.get('GROP_API_KEY')"
      ],
      "metadata": {
        "id": "6jO5F54Dm0_4"
      },
      "execution_count": 8,
      "outputs": []
    },
    {
      "cell_type": "markdown",
      "source": [
        "### Inicializar la conexión a la base de datos SQLite"
      ],
      "metadata": {
        "id": "1XlYjHe4iUir"
      }
    },
    {
      "cell_type": "code",
      "source": [
        "db = SQLDatabase.from_uri(f'sqlite:///{path}')"
      ],
      "metadata": {
        "id": "P-zvMzK3hapz"
      },
      "execution_count": 9,
      "outputs": []
    },
    {
      "cell_type": "markdown",
      "source": [
        "### Mostrar información sobre la base de datos"
      ],
      "metadata": {
        "id": "fVQPJhgU9qog"
      }
    },
    {
      "cell_type": "code",
      "source": [
        "print(db.dialect)\n",
        "print(db.get_usable_table_names())"
      ],
      "metadata": {
        "colab": {
          "base_uri": "https://localhost:8080/"
        },
        "id": "ngfNpImIiZYQ",
        "outputId": "b4b57c80-f964-4dbc-8218-d1c731eae343"
      },
      "execution_count": 10,
      "outputs": [
        {
          "output_type": "stream",
          "name": "stdout",
          "text": [
            "sqlite\n",
            "['Album', 'Artist', 'Customer', 'Employee', 'Genre', 'Invoice', 'InvoiceLine', 'MediaType', 'Playlist', 'PlaylistTrack', 'Track']\n"
          ]
        }
      ]
    },
    {
      "cell_type": "markdown",
      "source": [
        "### Ejemplo de consulta a la base de datos"
      ],
      "metadata": {
        "id": "ah2QE7gZ91jS"
      }
    },
    {
      "cell_type": "code",
      "source": [
        "db.run(\"SELECT * FROM Artist LIMIT 10;\")"
      ],
      "metadata": {
        "colab": {
          "base_uri": "https://localhost:8080/",
          "height": 53
        },
        "id": "TMVOGO6HiokZ",
        "outputId": "99cb6b6d-058b-4852-989f-46b9d6e3896b"
      },
      "execution_count": 11,
      "outputs": [
        {
          "output_type": "execute_result",
          "data": {
            "text/plain": [
              "\"[(1, 'AC/DC'), (2, 'Accept'), (3, 'Aerosmith'), (4, 'Alanis Morissette'), (5, 'Alice In Chains'), (6, 'Antônio Carlos Jobim'), (7, 'Apocalyptica'), (8, 'Audioslave'), (9, 'BackBeat'), (10, 'Billy Cobham')]\""
            ],
            "application/vnd.google.colaboratory.intrinsic+json": {
              "type": "string"
            }
          },
          "metadata": {},
          "execution_count": 11
        }
      ]
    },
    {
      "cell_type": "markdown",
      "source": [
        "### Inicializar el modelo de lenguaje (Llama) con Groq como proveedor"
      ],
      "metadata": {
        "id": "QD1a9-y2mT-v"
      }
    },
    {
      "cell_type": "code",
      "source": [
        "#llm = init_chat_model(\"llama3-8b-8192\", model_provider=\"groq\", api_key=api_key ) #Observación: Supera los tokens disponibles por minuto\n",
        "llm = init_chat_model(\"meta-llama/llama-4-scout-17b-16e-instruct\", model_provider=\"groq\", api_key=api_key )"
      ],
      "metadata": {
        "id": "SMaRPykUmPyS"
      },
      "execution_count": 12,
      "outputs": []
    },
    {
      "cell_type": "markdown",
      "source": [
        "### Configurar embeddings"
      ],
      "metadata": {
        "id": "gH1yl89yTZzd"
      }
    },
    {
      "cell_type": "code",
      "source": [
        "# Configuración del modelo de embeddings para representar texto como vectores\n",
        "# Se utiliza para búsquedas semánticas de ejemplos similares\n",
        "embeddings = HuggingFaceEmbeddings(model_name=\"sentence-transformers/all-mpnet-base-v2\")"
      ],
      "metadata": {
        "id": "TthDYOvATbsa"
      },
      "execution_count": null,
      "outputs": []
    },
    {
      "cell_type": "markdown",
      "source": [
        "### Definir ejemplos few-shot y crear índice FAISS"
      ],
      "metadata": {
        "id": "Gc4n_iv6Tgw6"
      }
    },
    {
      "cell_type": "code",
      "source": [
        "# Ejemplos de pares (pregunta en lenguaje natural, consulta SQL equivalente)\n",
        "# Estos ejemplos servirán como referencia para el LLM mediante few-shot learning\n",
        "examples = [\n",
        "    {\"input\": \"List all artists.\", \"query\": \"SELECT * FROM Artist;\"},\n",
        "    {\n",
        "        \"input\": \"Find all albums for the Artist 'AC/DC'.\",\n",
        "        \"query\": \"SELECT * FROM Album WHERE ArtistId = (SELECT ArtistId FROM Artist WHERE Name = 'AC/DC');\",\n",
        "    },\n",
        "    {\n",
        "        \"input\": \"List all tracks in the 'Rock' genre.\",\n",
        "        \"query\": \"SELECT * FROM Track WHERE GenreId = (SELECT GenreId FROM Genre WHERE Name = 'Rock');\",\n",
        "    },\n",
        "    {\n",
        "        \"input\": \"Find the total duration of all tracks.\",\n",
        "        \"query\": \"SELECT SUM(Milliseconds) FROM Track;\",\n",
        "    },\n",
        "    {\n",
        "        \"input\": \"List all customers from Canada.\",\n",
        "        \"query\": \"SELECT * FROM Customer WHERE Country = 'Canada';\",\n",
        "    },\n",
        "    {\n",
        "        \"input\": \"How many tracks are there in the album with ID 5?\",\n",
        "        \"query\": \"SELECT COUNT(*) FROM Track WHERE AlbumId = 5;\",\n",
        "    },\n",
        "    {\n",
        "        \"input\": \"Find the total number of invoices.\",\n",
        "        \"query\": \"SELECT COUNT(*) FROM Invoice;\",\n",
        "    },\n",
        "    {\n",
        "        \"input\": \"List all tracks that are longer than 5 minutes.\",\n",
        "        \"query\": \"SELECT * FROM Track WHERE Milliseconds > 300000;\",\n",
        "    },\n",
        "    {\n",
        "        \"input\": \"Who are the top 5 customers by total purchase?\",\n",
        "        \"query\": \"SELECT CustomerId, SUM(Total) AS TotalPurchase FROM Invoice GROUP BY CustomerId ORDER BY TotalPurchase DESC LIMIT 5;\",\n",
        "    },\n",
        "    {\n",
        "        \"input\": \"Which albums are from the year 2000?\",\n",
        "        \"query\": \"SELECT * FROM Album WHERE strftime('%Y', ReleaseDate) = '2000';\",\n",
        "    },\n",
        "    {\n",
        "        \"input\": \"How many employees are there\",\n",
        "        \"query\": 'SELECT COUNT(*) FROM \"Employee\"',\n",
        "    },\n",
        "]"
      ],
      "metadata": {
        "id": "iNWDC9yaTgOG"
      },
      "execution_count": 14,
      "outputs": []
    },
    {
      "cell_type": "markdown",
      "source": [
        "### Convertir ejemplos a textos indexables"
      ],
      "metadata": {
        "id": "yz9IR0WuM_fw"
      }
    },
    {
      "cell_type": "code",
      "source": [
        "# Formateo de los ejemplos para su indexación en FAISS\n",
        "example_texts = [f\"Input: {ex['input']}\\nSQL Query: {ex['query']}\" for ex in examples]\n",
        "# Creación del índice FAISS para búsqueda eficiente de ejemplos similares\n",
        "example_store = FAISS.from_texts(example_texts, embeddings)\n",
        "# Configuración del recuperador para obtener los 2 ejemplos más similares a una consulta\n",
        "example_retriever = example_store.as_retriever(search_kwargs={\"k\": 2})"
      ],
      "metadata": {
        "id": "JzZSet6ZTmVG"
      },
      "execution_count": 15,
      "outputs": []
    },
    {
      "cell_type": "markdown",
      "source": [
        "### System Prompt base"
      ],
      "metadata": {
        "id": "xPKVZaZMryFa"
      }
    },
    {
      "cell_type": "code",
      "source": [
        "# Prompt de sistema que guía al modelo en cómo responder a las preguntas\n",
        "# Define un orden específico de pasos y reglas para generar consultas SQL correctas\n",
        "base_system_message = \"\"\"Sigue ESTE ORDEN para responder la pregunta:\n",
        "1. Usa 'sql_db_list_tables' (tablas disponibles)\n",
        "2. Usa 'sql_db_schema' (estructura de tablas relevantes)\n",
        "3. Usa 'retrieve_sql_examples' (ejemplos similares)\n",
        "4. Solo si es necesario: 'search_proper_nouns' (nombres propios)\n",
        "\n",
        "Reglas clave:\n",
        "- No utilizar tablas no presentes en sql_db_list_tables y columnas no presentes en sql_db_schema\n",
        "- Limita resultados a {top_k} (salvo indicación)\n",
        "- Nunca hagas DML (INSERT/UPDATE/DELETE)\n",
        "- Verifica consultas antes de ejecutar\n",
        "- Para nombres propios, SIEMPRE usa la herramienta 'search_proper_nouns'\n",
        "\n",
        "Ejemplo conciso:\n",
        "1. Listar tablas → 2. Ver esquema → 3. Buscar ejemplos → [4. Nombres si needed] → 5. Consulta realizada con SQLite\n",
        "\"\"\".format(top_k=5)"
      ],
      "metadata": {
        "id": "mtRuAVZaruWD"
      },
      "execution_count": 16,
      "outputs": []
    },
    {
      "cell_type": "markdown",
      "source": [
        "### Inicializar el toolkit para SQL con la base de datos y el modelo LLM"
      ],
      "metadata": {
        "id": "ojC9Krxjr0rE"
      }
    },
    {
      "cell_type": "code",
      "source": [
        "# Creación del toolkit que proporciona herramientas para interactuar con la base de datos\n",
        "toolkit = SQLDatabaseToolkit(db=db, llm=llm)\n",
        "tools = toolkit.get_tools()"
      ],
      "metadata": {
        "id": "ycC-9EeOrwtC"
      },
      "execution_count": 17,
      "outputs": []
    },
    {
      "cell_type": "markdown",
      "source": [
        "### Función auxiliar para convertir resultados de consultas SQL en listas limpias"
      ],
      "metadata": {
        "id": "986mFCHl-DOB"
      }
    },
    {
      "cell_type": "code",
      "source": [
        "def query_as_list(db, query):\n",
        "    \"\"\"\n",
        "    Convierte el resultado de una consulta SQL en una lista limpia de strings.\n",
        "\n",
        "    Args:\n",
        "        db (SQLDatabase): La base de datos donde ejecutar la consulta\n",
        "        query (str): La consulta SQL a ejecutar\n",
        "\n",
        "    Returns:\n",
        "        list: Lista de strings con los resultados limpios (sin duplicados y sin números)\n",
        "    \"\"\"\n",
        "    # Ejecutar la consulta en la base de datos\n",
        "    res = db.run(query)\n",
        "\n",
        "    # Convertir el resultado (string) a una estructura de datos Python y aplanar la lista\n",
        "    res = [el for sub in ast.literal_eval(res) for el in sub if el]\n",
        "\n",
        "    # Eliminar números y espacios extra de cada string\n",
        "    res = [re.sub(r\"\\b\\d+\\b\", \"\", string).strip() for string in res]\n",
        "\n",
        "    # Devolver lista sin duplicados\n",
        "    return list(set(res))"
      ],
      "metadata": {
        "id": "nN0AL_9BuglR"
      },
      "execution_count": 18,
      "outputs": []
    },
    {
      "cell_type": "markdown",
      "source": [
        "### Obtener nombres de artistas y álbumes para el sistema de recuperación"
      ],
      "metadata": {
        "id": "SjZeDWQK-GB-"
      }
    },
    {
      "cell_type": "code",
      "source": [
        "# Extracción de nombres de artistas y álbumes de la base de datos\n",
        "# Estos se usarán para buscar coincidencias cuando se mencionen en las consultas\n",
        "artists = query_as_list(db, \"SELECT Name FROM Artist\")\n",
        "albums = query_as_list(db, \"SELECT Title FROM Album\")"
      ],
      "metadata": {
        "id": "V_nqweg--IGf"
      },
      "execution_count": 19,
      "outputs": []
    },
    {
      "cell_type": "markdown",
      "source": [
        "### Crear vector store para nombres propios usando FAISS"
      ],
      "metadata": {
        "id": "LZK0q27yUAPw"
      }
    },
    {
      "cell_type": "code",
      "source": [
        "# Creación de un índice FAISS para la búsqueda eficiente de nombres propios\n",
        "proper_noun_store = FAISS.from_texts(artists + albums, embeddings)\n",
        "retriever = proper_noun_store.as_retriever(search_kwargs={\"k\": 5})"
      ],
      "metadata": {
        "id": "-n4CBVEDUB1K"
      },
      "execution_count": 20,
      "outputs": []
    },
    {
      "cell_type": "markdown",
      "source": [
        "### Configurar herramienta de recuperación para nombres propios"
      ],
      "metadata": {
        "id": "wsiR76HMUEn3"
      }
    },
    {
      "cell_type": "code",
      "source": [
        "# Descripción de la herramienta para buscar nombres propios\n",
        "proper_noun_description  = (\n",
        "    \"Use to look up values to filter on. Input is an approximate spelling \"\n",
        "    \"of the proper noun, output is valid proper nouns. Use the noun most \"\n",
        "    \"similar to the search.\"\n",
        ")\n",
        "\n",
        "# Creación de la herramienta de recuperación para nombres propios\n",
        "retriever_tool = create_retriever_tool(\n",
        "    retriever,\n",
        "    name=\"search_proper_nouns\",\n",
        "    description=proper_noun_description ,\n",
        ")"
      ],
      "metadata": {
        "id": "kavBas3sUGDh"
      },
      "execution_count": 21,
      "outputs": []
    },
    {
      "cell_type": "markdown",
      "source": [
        "### Configurar herramienta de recuperación de ejemplos sql"
      ],
      "metadata": {
        "id": "hIfIM2HANqG9"
      }
    },
    {
      "cell_type": "code",
      "source": [
        "# Descripción de la herramienta para recuperar ejemplos de consultas SQL\n",
        "example_description = (\n",
        "\"Use to get examples of similar SQL queries. \"\n",
        "\"Input should be a natural language question about the database. \"\n",
        "\"Output will be example questions and their corresponding SQL queries.\"\n",
        ")\n",
        "\n",
        "# Creación de la herramienta de recuperación para ejemplos SQL\n",
        "example_retriever_tool = create_retriever_tool(\n",
        "    example_retriever,\n",
        "    name=\"retrieve_sql_examples\",\n",
        "    description=example_description,\n",
        ")"
      ],
      "metadata": {
        "id": "lD6bMvHnNu6N"
      },
      "execution_count": 22,
      "outputs": []
    },
    {
      "cell_type": "markdown",
      "source": [
        "### Añadir la herramientas de recuperación a las herramientas disponibles"
      ],
      "metadata": {
        "id": "ij17aykbUH9N"
      }
    },
    {
      "cell_type": "code",
      "source": [
        "# Agregar las nuevas herramientas a la lista de herramientas disponibles\n",
        "tools.extend([retriever_tool, example_retriever_tool])"
      ],
      "metadata": {
        "id": "lMTgVpiXUIPv"
      },
      "execution_count": 23,
      "outputs": []
    },
    {
      "cell_type": "code",
      "source": [
        "# Crear agente con el prompt base\n",
        "agent = create_react_agent(llm, tools, prompt=base_system_message)"
      ],
      "metadata": {
        "id": "ucJZBWawinTs"
      },
      "execution_count": 24,
      "outputs": []
    },
    {
      "cell_type": "markdown",
      "source": [
        "### Internal Debug"
      ],
      "metadata": {
        "id": "uqtYFSflh8Q2"
      }
    },
    {
      "cell_type": "code",
      "source": [
        "def answer(question):\n",
        "    \"\"\"\n",
        "    Función para pruebas internas que ejecuta el agente y muestra todos los pasos de razonamiento.\n",
        "\n",
        "    Args:\n",
        "        question (str): La pregunta del usuario sobre la base de datos\n",
        "\n",
        "    Returns:\n",
        "        None: Imprime cada paso del proceso de razonamiento\n",
        "    \"\"\"\n",
        "    # Crear agente con el prompt actualizado y modo debug activado\n",
        "    agent = create_react_agent(llm, tools, prompt=base_system_message, debug=True)\n",
        "\n",
        "    # Ejecutar el agente en modo stream para ver cada paso\n",
        "    for step in agent.stream(\n",
        "        {\"messages\": [{\"role\": \"user\", \"content\": question}]},\n",
        "        stream_mode=\"values\",\n",
        "    ):\n",
        "        step[\"messages\"][-1].pretty_print()  # Imprimir cada mensaje generado"
      ],
      "metadata": {
        "id": "wjeu-uKxkHhP"
      },
      "execution_count": 25,
      "outputs": []
    },
    {
      "cell_type": "code",
      "source": [
        "# Ejemplo de prueba interna\n",
        "#answer(\"Which country's customers spent the most?\")"
      ],
      "metadata": {
        "id": "Ce8Jw4n-h9Tz"
      },
      "execution_count": 26,
      "outputs": []
    },
    {
      "cell_type": "markdown",
      "source": [
        "### Función final para realizar preguntas"
      ],
      "metadata": {
        "id": "o_X6qPuXjEDn"
      }
    },
    {
      "cell_type": "code",
      "source": [
        "def pretty_answer(question):\n",
        "    \"\"\"\n",
        "    Función principal simplificada que recibe una pregunta y devuelve la respuesta del agente.\n",
        "\n",
        "    Utiliza el método invoke() en lugar de stream() para obtener directamente el resultado final.\n",
        "\n",
        "    Args:\n",
        "        question (str): La pregunta del usuario sobre la base de datos\n",
        "\n",
        "    Returns:\n",
        "        str: La respuesta generada por el agente (solo el contenido final)\n",
        "    \"\"\"\n",
        "    try:\n",
        "        # Preparar la entrada y ejecutar el agente de forma directa\n",
        "        input_data = {\"messages\": [{\"role\": \"user\", \"content\": question}]}\n",
        "        result = agent.invoke(input_data)\n",
        "\n",
        "        # Obtener el último mensaje (respuesta final)\n",
        "        final_response = result[\"messages\"][-1].content\n",
        "\n",
        "        return final_response\n",
        "\n",
        "    except Exception as e:\n",
        "        return f\"Error al procesar la pregunta: {str(e)}\"\n",
        "\n",
        "# Función para imprimir de forma elegante\n",
        "def print_answer(question):\n",
        "    \"\"\"\n",
        "    Imprime la pregunta y respuesta con formato claro y separación visual\n",
        "\n",
        "    Args:\n",
        "        question (str): Pregunta a mostrar\n",
        "    \"\"\"\n",
        "    print(\"═\" * 80)\n",
        "    print(f\"❓ Pregunta: {question}\")\n",
        "    print(\"─\" * 80)\n",
        "    response = pretty_answer(question)\n",
        "    print(f\"💡 Respuesta:\\n{response}\")\n",
        "    print(\"═\" * 80 + \"\\n\")"
      ],
      "metadata": {
        "id": "C9x2xjBAimIg"
      },
      "execution_count": 27,
      "outputs": []
    },
    {
      "cell_type": "markdown",
      "source": [
        "### Realizar preguntas de prueba"
      ],
      "metadata": {
        "id": "qwj8CKI6i5kZ"
      }
    },
    {
      "cell_type": "markdown",
      "source": [
        "#### Pregunta 1"
      ],
      "metadata": {
        "id": "9UnjNN8rEvMb"
      }
    },
    {
      "cell_type": "code",
      "source": [
        "print_answer(\"Which country's customers spent the most?\")"
      ],
      "metadata": {
        "colab": {
          "base_uri": "https://localhost:8080/"
        },
        "id": "Xi9CaqTgiqLi",
        "outputId": "9a4ca754-36a9-4153-dd53-89a214faa00e"
      },
      "execution_count": 35,
      "outputs": [
        {
          "output_type": "stream",
          "name": "stdout",
          "text": [
            "════════════════════════════════════════════════════════════════════════════════\n",
            "❓ Pregunta: Which country's customers spent the most?\n",
            "────────────────────────────────────────────────────────────────────────────────\n",
            "💡 Respuesta:\n",
            "The country with the highest total spending is the USA, with a total of $523.06.\n",
            "════════════════════════════════════════════════════════════════════════════════\n",
            "\n"
          ]
        }
      ]
    },
    {
      "cell_type": "code",
      "source": [
        "# Solución:\n",
        "db.run(\"SELECT Country, SUM(Total) AS TotalPurchase FROM Invoice JOIN Customer ON Invoice.CustomerId = Customer.CustomerId GROUP BY Country ORDER BY TotalPurchase DESC LIMIT 1\")"
      ],
      "metadata": {
        "colab": {
          "base_uri": "https://localhost:8080/",
          "height": 35
        },
        "id": "tsyujmFNEbR3",
        "outputId": "26eb97b4-8357-4008-9f87-6c01bdf7cb22"
      },
      "execution_count": 28,
      "outputs": [
        {
          "output_type": "execute_result",
          "data": {
            "text/plain": [
              "\"[('USA', 523.0600000000003)]\""
            ],
            "application/vnd.google.colaboratory.intrinsic+json": {
              "type": "string"
            }
          },
          "metadata": {},
          "execution_count": 28
        }
      ]
    },
    {
      "cell_type": "markdown",
      "source": [
        "#### Pregunta 2"
      ],
      "metadata": {
        "id": "lp9H_sUdEw2-"
      }
    },
    {
      "cell_type": "code",
      "source": [
        "print_answer(\"List all albums by AC/DC\")"
      ],
      "metadata": {
        "colab": {
          "base_uri": "https://localhost:8080/"
        },
        "id": "6xqL7ZzIW0m0",
        "outputId": "c1408a9b-f303-4068-8d15-269484fa3439"
      },
      "execution_count": 36,
      "outputs": [
        {
          "output_type": "stream",
          "name": "stdout",
          "text": [
            "════════════════════════════════════════════════════════════════════════════════\n",
            "❓ Pregunta: List all albums by AC/DC\n",
            "────────────────────────────────────────────────────────────────────────────────\n",
            "💡 Respuesta:\n",
            "The albums by AC/DC are:\n",
            "\n",
            "1. For Those About To Rock We Salute You\n",
            "2. Let There Be Rock\n",
            "════════════════════════════════════════════════════════════════════════════════\n",
            "\n"
          ]
        }
      ]
    },
    {
      "cell_type": "code",
      "source": [
        "# Solución:\n",
        "db.run(\"SELECT * FROM Album WHERE ArtistId = (SELECT ArtistId FROM Artist WHERE Name = 'AC/DC')\")"
      ],
      "metadata": {
        "colab": {
          "base_uri": "https://localhost:8080/",
          "height": 35
        },
        "id": "vjT7WbFpEmYw",
        "outputId": "f5221a62-6264-4121-eb60-5eb544e8ba0a"
      },
      "execution_count": 29,
      "outputs": [
        {
          "output_type": "execute_result",
          "data": {
            "text/plain": [
              "\"[(1, 'For Those About To Rock We Salute You', 1), (4, 'Let There Be Rock', 1)]\""
            ],
            "application/vnd.google.colaboratory.intrinsic+json": {
              "type": "string"
            }
          },
          "metadata": {},
          "execution_count": 29
        }
      ]
    },
    {
      "cell_type": "markdown",
      "source": [
        "#### Pregunta 3"
      ],
      "metadata": {
        "id": "J8wDMyc8EykL"
      }
    },
    {
      "cell_type": "code",
      "source": [
        "print_answer(\"What is the average duration of tracks in the Rock genre?\")"
      ],
      "metadata": {
        "colab": {
          "base_uri": "https://localhost:8080/"
        },
        "id": "H1OiWbAAW09G",
        "outputId": "9f1e93da-4f00-4bec-a3cd-70e58d5a0533"
      },
      "execution_count": 39,
      "outputs": [
        {
          "output_type": "stream",
          "name": "stdout",
          "text": [
            "════════════════════════════════════════════════════════════════════════════════\n",
            "❓ Pregunta: What is the average duration of tracks in the Rock genre?\n",
            "────────────────────────────────────────────────────────────────────────────────\n",
            "💡 Respuesta:\n",
            "The average duration of tracks in the Rock genre is approximately 283.91 seconds or 4.73 minutes.\n",
            "════════════════════════════════════════════════════════════════════════════════\n",
            "\n"
          ]
        }
      ]
    },
    {
      "cell_type": "code",
      "source": [
        "# Solución:\n",
        "db.run(\"SELECT AVG(Milliseconds) FROM Track WHERE GenreId = (SELECT GenreId FROM Genre WHERE Name = 'Rock')\")"
      ],
      "metadata": {
        "colab": {
          "base_uri": "https://localhost:8080/",
          "height": 35
        },
        "id": "2-Xb37QsEqMS",
        "outputId": "87cbd62b-3c0f-4841-c603-7c5b938bb0ea"
      },
      "execution_count": 30,
      "outputs": [
        {
          "output_type": "execute_result",
          "data": {
            "text/plain": [
              "'[(283910.0431765613,)]'"
            ],
            "application/vnd.google.colaboratory.intrinsic+json": {
              "type": "string"
            }
          },
          "metadata": {},
          "execution_count": 30
        }
      ]
    },
    {
      "cell_type": "markdown",
      "source": [
        "#### Pregunta 4"
      ],
      "metadata": {
        "id": "JkTMIh7AE0F-"
      }
    },
    {
      "cell_type": "code",
      "source": [
        "print_answer(\"Which artist has the most albums in the database?\")"
      ],
      "metadata": {
        "colab": {
          "base_uri": "https://localhost:8080/"
        },
        "id": "VsoQOa6EE23O",
        "outputId": "43323d2f-4763-4d8e-da7e-2af96f547087"
      },
      "execution_count": 31,
      "outputs": [
        {
          "output_type": "stream",
          "name": "stdout",
          "text": [
            "════════════════════════════════════════════════════════════════════════════════\n",
            "❓ Pregunta: Which artist has the most albums in the database?\n",
            "────────────────────────────────────────────────────────────────────────────────\n",
            "💡 Respuesta:\n",
            "The artist with the most albums in the database is Iron Maiden with 21 albums.\n",
            "════════════════════════════════════════════════════════════════════════════════\n",
            "\n"
          ]
        }
      ]
    },
    {
      "cell_type": "code",
      "source": [
        "# Solución:\n",
        "db.run(\"SELECT ar.Name AS ArtistName, COUNT(al.AlbumId) AS AlbumCount FROM Artist ar JOIN Album al ON ar.ArtistId = al.ArtistId GROUP BY ar.Name ORDER BY AlbumCount DESC LIMIT 1;\")"
      ],
      "metadata": {
        "colab": {
          "base_uri": "https://localhost:8080/",
          "height": 35
        },
        "id": "jxxjB0fIE8Zc",
        "outputId": "217bb5f6-33a2-41fb-98c2-ee7eb2504153"
      },
      "execution_count": 32,
      "outputs": [
        {
          "output_type": "execute_result",
          "data": {
            "text/plain": [
              "\"[('Iron Maiden', 21)]\""
            ],
            "application/vnd.google.colaboratory.intrinsic+json": {
              "type": "string"
            }
          },
          "metadata": {},
          "execution_count": 32
        }
      ]
    },
    {
      "cell_type": "markdown",
      "source": [
        "#### Pregunta 5"
      ],
      "metadata": {
        "id": "Uz66rQ6ME2Jh"
      }
    },
    {
      "cell_type": "code",
      "source": [
        "print_answer(\"Which playlist has the highest number of tracks?\")"
      ],
      "metadata": {
        "colab": {
          "base_uri": "https://localhost:8080/"
        },
        "id": "idCUI5moFB1U",
        "outputId": "f2e2c10a-d154-4b2b-8e14-bf6702fdf3ca"
      },
      "execution_count": 33,
      "outputs": [
        {
          "output_type": "stream",
          "name": "stdout",
          "text": [
            "════════════════════════════════════════════════════════════════════════════════\n",
            "❓ Pregunta: Which playlist has the highest number of tracks?\n",
            "────────────────────────────────────────────────────────────────────────────────\n",
            "💡 Respuesta:\n",
            "The playlist with the highest number of tracks is \"Music\".\n",
            "════════════════════════════════════════════════════════════════════════════════\n",
            "\n"
          ]
        }
      ]
    },
    {
      "cell_type": "code",
      "source": [
        "# Solución:\n",
        "db.run(\"SELECT p.Name AS PlaylistName, COUNT(pt.TrackId) AS TrackCount FROM Playlist p JOIN PlaylistTrack pt ON p.PlaylistId = pt.PlaylistId GROUP BY p.Name ORDER BY TrackCount DESC LIMIT 1;\")"
      ],
      "metadata": {
        "colab": {
          "base_uri": "https://localhost:8080/",
          "height": 35
        },
        "id": "7LCSNKJeFFe3",
        "outputId": "68558bcd-2d3e-4c27-caa5-23334129a675"
      },
      "execution_count": 34,
      "outputs": [
        {
          "output_type": "execute_result",
          "data": {
            "text/plain": [
              "\"[('Music', 6580)]\""
            ],
            "application/vnd.google.colaboratory.intrinsic+json": {
              "type": "string"
            }
          },
          "metadata": {},
          "execution_count": 34
        }
      ]
    }
  ]
}